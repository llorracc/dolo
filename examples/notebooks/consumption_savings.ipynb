{
 "cells": [
  {
   "cell_type": "code",
   "execution_count": null,
   "metadata": {},
   "outputs": [],
   "source": [
    "from dolo import *\n",
    "from matplotlib import pyplot as plt"
   ]
  },
  {
   "cell_type": "code",
   "execution_count": 2,
   "metadata": {},
   "outputs": [],
   "source": [
    "model = yaml_import(\"../models/consumption_savings_iid.yaml\")"
   ]
  },
  {
   "cell_type": "code",
   "execution_count": null,
   "metadata": {},
   "outputs": [],
   "source": [
    "dr = time_iteration(model)"
   ]
  },
  {
   "cell_type": "markdown",
   "metadata": {},
   "source": [
    "One can also try the faster version"
   ]
  },
  {
   "cell_type": "markdown",
   "metadata": {},
   "source": [
    "## Stochastic Simulations"
   ]
  },
  {
   "cell_type": "code",
   "execution_count": null,
   "metadata": {},
   "outputs": [],
   "source": [
    "# Shocks are discretized as a markov chain by default:\n",
    "dp = model.exogenous.discretize()\n",
    "sim_shock = dp.simulate(10, 100, i0=1)\n",
    "for i in range(10):\n",
    "    plt.plot(sim_shock[:,i,0], color='red', alpha=0.5)"
   ]
  },
  {
   "cell_type": "code",
   "execution_count": 5,
   "metadata": {},
   "outputs": [],
   "source": [
    "sim = simulate(model, dr, i0=1, N=100)"
   ]
  },
  {
   "cell_type": "code",
   "execution_count": null,
   "metadata": {},
   "outputs": [],
   "source": [
    "plt.subplot(121)\n",
    "for i in range(10):\n",
    "    plt.plot(sim.sel(N=i,V='c'), color='red', alpha=0.5)\n",
    "plt.ylabel(\"$c_t$\")\n",
    "plt.xlabel(\"$t$\")\n",
    "plt.subplot(122)\n",
    "for i in range(10):\n",
    "    plt.plot(sim.sel(N=i,V='w'), color='red', alpha=0.5)\n",
    "plt.xlabel(\"$t$\")\n",
    "plt.ylabel(\"$w_t$\")\n",
    "\n",
    "plt.tight_layout()"
   ]
  },
  {
   "cell_type": "markdown",
   "metadata": {},
   "source": [
    "## Ergodic distribution"
   ]
  },
  {
   "cell_type": "code",
   "execution_count": 7,
   "metadata": {},
   "outputs": [],
   "source": [
    "sim_long = simulate(model, dr, i0=1, N=1000, T=200)"
   ]
  },
  {
   "cell_type": "code",
   "execution_count": null,
   "metadata": {},
   "outputs": [],
   "source": [
    "import seaborn\n",
    "seaborn.distplot(sim_long.sel(T=199, V='w'))\n",
    "plt.xlabel(\"$w$\")"
   ]
  },
  {
   "cell_type": "markdown",
   "metadata": {},
   "source": [
    "## Plotting Decision Rule"
   ]
  },
  {
   "cell_type": "code",
   "execution_count": 9,
   "metadata": {},
   "outputs": [],
   "source": [
    "tab = tabulate(model, dr,'w')"
   ]
  },
  {
   "cell_type": "code",
   "execution_count": 10,
   "metadata": {},
   "outputs": [],
   "source": [
    "from matplotlib import pyplot as plt"
   ]
  },
  {
   "cell_type": "code",
   "execution_count": null,
   "metadata": {},
   "outputs": [],
   "source": [
    "stable_wealth = model.eval_formula('1/r+(1-1/r)*w(0)', tab)\n",
    "plt.plot(tab['w'], tab['w'],color='black', linestyle='--')\n",
    "plt.plot(tab['w'], stable_wealth,color='black', linestyle='--')\n",
    "plt.plot(tab['w'], tab['c'])\n",
    "plt.xlabel(\"w_t\")\n",
    "plt.ylabel(\"c_t\")\n",
    "plt.grid()"
   ]
  }
 ],
 "metadata": {
  "kernelspec": {
   "display_name": "dolo-dev",
   "language": "python",
   "name": "python3"
  },
  "language_info": {
   "codemirror_mode": {
    "name": "ipython",
    "version": 3
   },
   "file_extension": ".py",
   "mimetype": "text/x-python",
   "name": "python",
   "nbconvert_exporter": "python",
   "pygments_lexer": "ipython3",
   "version": "3.9.21"
  }
 },
 "nbformat": 4,
 "nbformat_minor": 4
}
